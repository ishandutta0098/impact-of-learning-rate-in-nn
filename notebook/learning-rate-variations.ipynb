{
  "cells": [
    {
      "cell_type": "markdown",
      "metadata": {},
      "source": [
        "# Understanding the Impact of Learning Rate in a Deep Neural Network"
      ]
    },
    {
      "cell_type": "markdown",
      "metadata": {},
      "source": [
        "## Preliminaries"
      ]
    },
    {
      "cell_type": "code",
      "execution_count": 1,
      "metadata": {
        "colab": {
          "base_uri": "https://localhost:8080/",
          "height": 437,
          "referenced_widgets": [
            "dae59549ef954024b3c36d449e4641d9",
            "d0d2f9b00ba04fbc826786f670173113",
            "e08286687cbd40dfa558da2b8d71c6fc",
            "a3f6e11dfddd42e9b6067ae0ac370ed6",
            "88389412e16a4584a85916e15454f7f0",
            "111dd48b60b54627945bb5d13cca94a3",
            "2e94773230b0455ea544ee4e868f35ab",
            "50f95788611244cf8af9bc6a927da130",
            "9c17f851329549adb7c6c0ff1b4b72bb",
            "6b54b67a969f4dfcb8e42ac452ed2bf2",
            "51c391a3d08a45a98a621f318807c0a4",
            "a54941c3f2984eb188e7d709207718a3",
            "b2e0c5eb158e40cd826b37d782532ec0",
            "a78c1daf40bf488c8bf4e9ba6cbaebd8",
            "dab92fc6f1864ded828be1b86e9d394e",
            "6a37b969b4034f5982c103c20fec07f1",
            "eb35d1f806bb4293832b352372a7e818",
            "485adcc616a64367af619c8d8ef186ee",
            "a7797f3647754db698bb3cfc0e012a45",
            "c50d39ed89274af889b7d5a750eafccc",
            "a7dcae9789ae4846bb7d25c15eb3c871",
            "8b121d7f8284450f84487956d58594ba",
            "e9719aa12ee942519174b95260e006c9",
            "da2505878dfe4fbf94f69bfb628b4328",
            "921bffbe641f48edbec6a240d1febc60",
            "37bea11f5a444c45b2bf6cc01cc15ed5",
            "03db6468a1204187989c5a9ca399ca89",
            "b28fbff9823c4ba2b1ab6f0d1ce010a9",
            "6cdb0d3567704d1eae6971553158a93d",
            "20bfc65f6e084666a145f3e0c82e6e51",
            "fea2440f9b04432ba305fddd87654150",
            "6b7e31e72bbe4701b15c9b20ccad3f6e"
          ]
        },
        "id": "-BdJ4Kt46Qsq",
        "outputId": "33956944-49c6-4207-c3fe-25e5feaf93bf"
      },
      "outputs": [
        {
          "name": "stderr",
          "output_type": "stream",
          "text": [
            "Failed to detect the name of this notebook, you can set it manually with the WANDB_NOTEBOOK_NAME environment variable to enable code saving.\n",
            "wandb: You can find your API key in your browser here: https://wandb.ai/authorize\n",
            "wandb: Appending key for api.wandb.ai to your netrc file: C:\\Users\\hp/.netrc\n"
          ]
        },
        {
          "data": {
            "text/plain": [
              "True"
            ]
          },
          "execution_count": 1,
          "metadata": {},
          "output_type": "execute_result"
        }
      ],
      "source": [
        "# Necessities\n",
        "import os\n",
        "import numpy as np\n",
        "\n",
        "# Deep Learning\n",
        "import torch \n",
        "import torch.nn as nn \n",
        "from torch.utils.data import Dataset, DataLoader\n",
        "from torchvision import datasets\n",
        "from torch.optim import Adam\n",
        "\n",
        "# Data Visualization\n",
        "import matplotlib.ticker as mticker\n",
        "import matplotlib.pyplot as plt \n",
        "%matplotlib inline\n",
        "\n",
        "# wandb\n",
        "import wandb\n",
        "wandb.login()"
      ]
    },
    {
      "cell_type": "markdown",
      "metadata": {},
      "source": [
        "## Global Configuration"
      ]
    },
    {
      "cell_type": "code",
      "execution_count": 2,
      "metadata": {},
      "outputs": [],
      "source": [
        "class config:\n",
        "    DATA_DIRECTORY = 'D:/Blog Code/impact-of-learning-rate-in-nn/input/'\n",
        "    MODEL_DIRECTORY = 'D:/Blog Code/impact-of-learning-rate-in-nn/models'\n",
        "    MODEL_HIGH_LR_PATH = os.path.join(MODEL_DIRECTORY, 'model_high_lr.pth')\n",
        "    MODEL_MID_LR_PATH = os.path.join(MODEL_DIRECTORY, 'model_mid_lr.pth')\n",
        "    MODEL_LOW_LR_PATH = os.path.join(MODEL_DIRECTORY, 'model_low_lr.pth')\n",
        "\n",
        "    DATA_DOWNLOAD = False\n",
        "\n",
        "    DEVICE = 'cuda' if torch.cuda.is_available() else 'cpu'\n",
        "    \n",
        "    NUM_EPOCHS = 5\n",
        "    HIGH_LEARNING_RATE = 1e-1\n",
        "    MEDIUM_LEARNING_RATE = 1e-3\n",
        "    LOW_LEARNING_RATE = 1e-5\n",
        "    BATCH_SIZE = 32"
      ]
    },
    {
      "cell_type": "markdown",
      "metadata": {},
      "source": [
        "# Load Datasets"
      ]
    },
    {
      "cell_type": "code",
      "execution_count": 51,
      "metadata": {},
      "outputs": [],
      "source": [
        "# Download Data\n",
        "\n",
        "data = datasets.FashionMNIST(\n",
        "    config.DATA_DIRECTORY,\n",
        "    download=config.DATA_DOWNLOAD,\n",
        "    train=True\n",
        "    )"
      ]
    },
    {
      "cell_type": "code",
      "execution_count": 52,
      "metadata": {
        "id": "S4Ss3qAj6cCN"
      },
      "outputs": [],
      "source": [
        "# Train Dataset\n",
        "\n",
        "fmnist = datasets.FashionMNIST(\n",
        "    root=config.DATA_DIRECTORY,\n",
        "    download=config.DATA_DOWNLOAD,\n",
        "    train=True\n",
        "    )\n",
        "\n",
        "tr_images = fmnist.data\n",
        "tr_targets = fmnist.targets \n",
        "\n",
        "# Validation Dataset\n",
        "\n",
        "val_fmnist = datasets.FashionMNIST(\n",
        "    config.DATA_DIRECTORY,\n",
        "    download=config.DATA_DOWNLOAD,\n",
        "    train=False\n",
        "    )\n",
        "\n",
        "val_images = val_fmnist.data \n",
        "val_targets = val_fmnist.targets "
      ]
    },
    {
      "cell_type": "markdown",
      "metadata": {},
      "source": [
        "# Dataset Class"
      ]
    },
    {
      "cell_type": "code",
      "execution_count": 53,
      "metadata": {},
      "outputs": [],
      "source": [
        "class FMNISTDataset(Dataset):\n",
        "    def __init__(self, x, y):\n",
        "        x = x.float()/255       # Scaling the Data\n",
        "        x = x.view(-1,28*28)\n",
        "        self.x = x\n",
        "        self.y = y \n",
        "\n",
        "    def __getitem__(self, ix):\n",
        "        x = self.x[ix]\n",
        "        y = self.y[ix] \n",
        "\n",
        "        return x.to(config.DEVICE), y.to(config.DEVICE)\n",
        "        \n",
        "    def __len__(self): \n",
        "        return len(self.x)"
      ]
    },
    {
      "cell_type": "markdown",
      "metadata": {},
      "source": [
        "# Model"
      ]
    },
    {
      "cell_type": "code",
      "execution_count": 54,
      "metadata": {},
      "outputs": [],
      "source": [
        "def get_model(lr):\n",
        "    \"\"\"\n",
        "    Function to obtain the model, loss function and optimizer\n",
        "\n",
        "    Args:\n",
        "        lr (float): Learning Rate for Optimizer\n",
        "\n",
        "    Returns:\n",
        "        model: A Deel Learning Model\n",
        "        loss_fn: Loss Function\n",
        "        optimizer: Optimizer to update parameters\n",
        "    \"\"\"\n",
        "    model = nn.Sequential(\n",
        "        nn.Linear(28 * 28, 1000),\n",
        "        nn.ReLU(),\n",
        "        nn.Linear(1000, 10)\n",
        "    ).to(config.DEVICE)\n",
        "\n",
        "    loss_fn = nn.CrossEntropyLoss()\n",
        "\n",
        "    optimizer = Adam(model.parameters(), lr=lr)\n",
        "    \n",
        "    return model, loss_fn, optimizer"
      ]
    },
    {
      "cell_type": "markdown",
      "metadata": {},
      "source": [
        "# Training and Validation Functions"
      ]
    },
    {
      "cell_type": "code",
      "execution_count": 55,
      "metadata": {},
      "outputs": [],
      "source": [
        "def train_batch(x, y, model, optimizer, loss_fn):\n",
        "    \"\"\"\n",
        "    Function to train one batch of Training Data\n",
        "\n",
        "    Args:\n",
        "        x (numpy array): Input Features\n",
        "        y (numpy array): Labels\n",
        "        model: Deep Learning Model\n",
        "        optimizer: Optimizer\n",
        "        loss_fn: Loss Function\n",
        "\n",
        "    Returns:\n",
        "        batch_loss.item(): Loss value for the batch\n",
        "    \"\"\"\n",
        "    model.train()                       # Set model to training mode\n",
        "    prediction = model(x)               # Obtain Predictions\n",
        "    batch_loss = loss_fn(prediction, y) # Calculate Loss for the batch\n",
        "    batch_loss.backward()               # Backward Propagation of Loss\n",
        "    optimizer.step()                    # Update Parameters\n",
        "    optimizer.zero_grad()               # Zero the gradients\n",
        "    return batch_loss.item()\n",
        "\n",
        "def accuracy(x, y, model):\n",
        "    \"\"\"\n",
        "    Function to calculate the accuracy of the model\n",
        "\n",
        "    Args:\n",
        "        x (numpy array): Input Features\n",
        "        y (numpy array): Labels\n",
        "        model: Deep Learning Model\n",
        "\n",
        "    Returns:\n",
        "        is_correct.cpu().numpy().tolist() (list): List of correct predictions\n",
        "    \"\"\"\n",
        "    model.eval()                                # Set model to evaluation mode\n",
        "    with torch.no_grad():                       # Initialize torch.no_grad()\n",
        "        prediction = model(x)                   # Obtain predictions on evaluation set\n",
        "    max_values, argmaxes = prediction.max(-1)   # Obtain class prediction with maximum value\n",
        "    is_correct = argmaxes == y                  # Number of correct predictions\n",
        "    return is_correct.cpu().numpy().tolist()"
      ]
    },
    {
      "cell_type": "markdown",
      "metadata": {},
      "source": [
        "# Utilities"
      ]
    },
    {
      "cell_type": "code",
      "execution_count": 56,
      "metadata": {
        "id": "CfnVtUMO6nhR"
      },
      "outputs": [],
      "source": [
        "def get_data(): \n",
        "    \"\"\"\n",
        "    Function to obtain the Training and Validation DataLoaders\n",
        "\n",
        "    Returns:\n",
        "        train_dl: Training DataLoader\n",
        "        val_dl: Validation DataLoader\n",
        "    \"\"\"\n",
        "    train = FMNISTDataset(tr_images, tr_targets) \n",
        "    train_dl = DataLoader(train, batch_size=config.BATCH_SIZE, shuffle=True)\n",
        "    val = FMNISTDataset(val_images, val_targets) \n",
        "    val_dl = DataLoader(val, batch_size=len(val_images), shuffle=False)\n",
        "    return train_dl, val_dl"
      ]
    },
    {
      "cell_type": "code",
      "execution_count": 57,
      "metadata": {
        "id": "wAN-GtKb6o83"
      },
      "outputs": [],
      "source": [
        "@torch.no_grad()\n",
        "def val_loss(x, y, model):\n",
        "    \"\"\"\n",
        "    Function to calculate Validation Loss\n",
        "\n",
        "    Args:\n",
        "        x (numpy array): Input Features\n",
        "        y (numpy array): Labels\n",
        "        model: Deep Learning Model\n",
        "\n",
        "    Returns:\n",
        "        val_loss.item(): Validation Loss Value\n",
        "    \"\"\"\n",
        "    prediction = model(x)               # Obtain Model Predictions\n",
        "    val_loss = loss_fn(prediction, y)   # Calculate Validation Loss\n",
        "    return val_loss.item()"
      ]
    },
    {
      "cell_type": "code",
      "execution_count": null,
      "metadata": {},
      "outputs": [],
      "source": [
        "def get_loss_plot(lr, train_losses, val_losses, train_accuracies, val_accuracies):\n",
        "    \"\"\"\n",
        "    Function to plot the training and validation losses\n",
        "\n",
        "    Args:\n",
        "        lr (float): Learning Rate on which the model was trained\n",
        "        train_losses (list): List of training losses\n",
        "        val_losses (list): List of validation losses\n",
        "        train_accuracies (list): List of training accuracies\n",
        "        val_accuracies (list): List of validation accuracies\n",
        "    \"\"\"\n",
        "    epochs = np.arange(config.NUM_EPOCHS)+1\n",
        "\n",
        "    plt.subplot(211)\n",
        "    plt.plot(epochs, train_losses, 'bo', label='Training loss')\n",
        "    plt.plot(epochs, val_losses, 'r', label='Validation loss')\n",
        "    plt.gca().xaxis.set_major_locator(mticker.MultipleLocator(1))\n",
        "    plt.title(f'Training and validation loss with {lr} learning rate')\n",
        "    plt.xlabel('Epochs')\n",
        "    plt.ylabel('Loss')\n",
        "    plt.legend()\n",
        "    plt.grid('off')\n",
        "    plt.show()\n",
        "\n",
        "    plt.subplot(212)\n",
        "    plt.plot(epochs, train_accuracies, 'bo', label='Training accuracy')\n",
        "    plt.plot(epochs, val_accuracies, 'r', label='Validation accuracy')\n",
        "    plt.gca().xaxis.set_major_locator(mticker.MultipleLocator(1))\n",
        "    plt.title(f'Training and validation accuracy with {lr} learning rate')\n",
        "    plt.xlabel('Epochs')\n",
        "    plt.ylabel('Accuracy')\n",
        "    plt.gca().set_yticklabels(['{:.0f}%'.format(x*100) for x in plt.gca().get_yticks()]) \n",
        "    plt.legend()\n",
        "    plt.grid('off')\n",
        "    plt.show()"
      ]
    },
    {
      "cell_type": "code",
      "execution_count": null,
      "metadata": {},
      "outputs": [],
      "source": [
        "def get_hist_plot(path):\n",
        "    \"\"\"\n",
        "    Function to plot the histogram of the model parameters\n",
        "\n",
        "    Args:\n",
        "        path (str): Path of the model\n",
        "    \"\"\"\n",
        "\n",
        "    # Load Model\n",
        "    model.load_state_dict(torch.load(path))\n",
        "\n",
        "    # Plot Histogram\n",
        "    for ix, par in enumerate(model.parameters()):\n",
        "        if(ix==0):\n",
        "            plt.hist(par.cpu().detach().numpy().flatten())\n",
        "            plt.title('Distribution of weights conencting input to hidden layer')\n",
        "            plt.show()\n",
        "        elif(ix ==1):\n",
        "            plt.hist(par.cpu().detach().numpy().flatten())\n",
        "            plt.title('Distribution of biases of hidden layer')\n",
        "            plt.show()\n",
        "        elif(ix==2):\n",
        "            plt.hist(par.cpu().detach().numpy().flatten())\n",
        "            plt.title('Distribution of weights conencting hidden to output layer')\n",
        "            plt.show()\n",
        "        elif(ix ==3):\n",
        "            plt.hist(par.cpu().detach().numpy().flatten())\n",
        "            plt.title('Distribution of biases of output layer')\n",
        "            plt.show() "
      ]
    },
    {
      "cell_type": "markdown",
      "metadata": {},
      "source": [
        "# Engine"
      ]
    },
    {
      "cell_type": "code",
      "execution_count": 44,
      "metadata": {
        "colab": {
          "base_uri": "https://localhost:8080/",
          "height": 108
        },
        "id": "h-yph5GO6rQ6",
        "outputId": "96d18492-ffaa-4db1-f86b-fabbabb9d5ac"
      },
      "outputs": [],
      "source": [
        "def run(lr, path):\n",
        "    \"\"\"\n",
        "    Function to run the model training\n",
        "\n",
        "    Args:\n",
        "        lr : Learning Rate for the optimizer\n",
        "        path (str): Path of the model\n",
        "\n",
        "    Returns:\n",
        "        train_losses (list): List of training losses\n",
        "        val_losses (list): List of validation losses\n",
        "        train_accuracies (list): List of training accuracies\n",
        "        val_accuracies (list): List of validation accuracies\n",
        "    \"\"\"\n",
        "\n",
        "    # Load Dataloaders\n",
        "    train_dl, val_dl = get_data()\n",
        "    \n",
        "    model, loss_fn, optimizer = get_model(lr)\n",
        "    \n",
        "    # Define lists to store losses and accuracies\n",
        "    train_losses, train_accuracies = [], []\n",
        "    val_losses, val_accuracies = [], []\n",
        "\n",
        "    # Initialize wandb\n",
        "    run = wandb.init(project='impact-of-learning-rate-in-nn')\n",
        "\n",
        "    for epoch in range(config.NUM_EPOCHS):\n",
        "\n",
        "        print(f\"########## Epoch: {epoch} ##########\")\n",
        "\n",
        "        train_epoch_losses, train_epoch_accuracies = [], []\n",
        "\n",
        "        for ix, batch in enumerate(iter(train_dl)):\n",
        "            x, y = batch\n",
        "            batch_loss = train_batch(\n",
        "                x, \n",
        "                y, \n",
        "                model, \n",
        "                optimizer, \n",
        "                loss_fn\n",
        "                )\n",
        "            train_epoch_losses.append(batch_loss) \n",
        "            \n",
        "        train_epoch_loss = np.array(train_epoch_losses).mean()\n",
        "        print(f\"Epoch Train Loss: {train_epoch_loss}\")\n",
        "        print()\n",
        "\n",
        "        for ix, batch in enumerate(iter(train_dl)):\n",
        "            x, y = batch\n",
        "            is_correct = accuracy(x, y, model)\n",
        "            train_epoch_accuracies.extend(is_correct)\n",
        "\n",
        "        train_epoch_accuracy = np.mean(train_epoch_accuracies)\n",
        "\n",
        "        for ix, batch in enumerate(iter(val_dl)):\n",
        "            x, y = batch\n",
        "            val_is_correct = accuracy(x, y, model)\n",
        "            validation_loss = val_loss(x, y, model)\n",
        "            \n",
        "        val_epoch_accuracy = np.mean(val_is_correct)\n",
        "        train_losses.append(train_epoch_loss)\n",
        "        train_accuracies.append(train_epoch_accuracy)\n",
        "        val_losses.append(validation_loss)\n",
        "        val_accuracies.append(val_epoch_accuracy)\n",
        "\n",
        "        wandb.log(\n",
        "            {   'epoch': epoch,\n",
        "                'train_loss': train_epoch_loss,\n",
        "                'train_accuracy': train_epoch_accuracy,\n",
        "                'val_loss': validation_loss,\n",
        "                'val_accuracy': val_epoch_accuracy\n",
        "            }\n",
        "        )\n",
        "\n",
        "    torch.save(model.state_dict(), path)\n",
        "\n",
        "    wandb.finish()\n",
        "\n",
        "    return train_losses, val_losses, train_accuracies, val_accuracies"
      ]
    },
    {
      "cell_type": "markdown",
      "metadata": {},
      "source": [
        "---"
      ]
    },
    {
      "cell_type": "markdown",
      "metadata": {},
      "source": [
        "### 1. High Learning Rate (1e-1)"
      ]
    },
    {
      "cell_type": "code",
      "execution_count": 45,
      "metadata": {},
      "outputs": [
        {
          "name": "stdout",
          "output_type": "stream",
          "text": [
            "########## Epoch: 0 ##########\n",
            "Epoch Train Loss: 3.0733743698596956\n",
            "\n",
            "########## Epoch: 1 ##########\n",
            "Epoch Train Loss: 1.8048563426971436\n",
            "\n",
            "########## Epoch: 2 ##########\n",
            "Epoch Train Loss: 1.8854088230133057\n",
            "\n",
            "########## Epoch: 3 ##########\n",
            "Epoch Train Loss: 2.0692964618682863\n",
            "\n",
            "########## Epoch: 4 ##########\n",
            "Epoch Train Loss: 2.0699598999023436\n",
            "\n"
          ]
        }
      ],
      "source": [
        "train_losses, val_losses, train_accuracies, val_accuracies = run(\n",
        "                                                               config.HIGH_LEARNING_RATE, \n",
        "                                                               config.MODEL_HIGH_LR_PATH\n",
        "                                                            )"
      ]
    },
    {
      "cell_type": "code",
      "execution_count": 47,
      "metadata": {},
      "outputs": [
        {
          "data": {
            "image/png": "[encoded data removed]",
            "text/plain": [
              "<Figure size 432x288 with 1 Axes>"
            ]
          },
          "metadata": {
            "needs_background": "light"
          },
          "output_type": "display_data"
        },
        {
          "name": "stderr",
          "output_type": "stream",
          "text": [
            "C:\\Users\\hp\\anaconda3\\envs\\myenv\\lib\\site-packages\\ipykernel_launcher.py:28: UserWarning: FixedFormatter should only be used together with FixedLocator\n"
          ]
        },
        {
          "data": {
            "image/png": "[encoded data removed]",
            "text/plain": [
              "<Figure size 432x288 with 1 Axes>"
            ]
          },
          "metadata": {
            "needs_background": "light"
          },
          "output_type": "display_data"
        }
      ],
      "source": [
        "get_loss_plot(\n",
        "    config.HIGH_LEARNING_RATE, \n",
        "    train_losses, \n",
        "    val_losses, \n",
        "    train_accuracies, \n",
        "    val_accuracies\n",
        "    )"
      ]
    },
    {
      "cell_type": "code",
      "execution_count": 48,
      "metadata": {
        "colab": {
          "base_uri": "https://localhost:8080/",
          "height": 1000
        },
        "id": "Oe7U2lsn8Cub",
        "outputId": "74d286e1-f7ac-4df8-8881-365625253b19"
      },
      "outputs": [
        {
          "data": {
            "image/png": "[encoded data removed]",
            "text/plain": [
              "<Figure size 432x288 with 1 Axes>"
            ]
          },
          "metadata": {
            "needs_background": "light"
          },
          "output_type": "display_data"
        },
        {
          "data": {
            "image/png": "[encoded data removed]",
            "text/plain": [
              "<Figure size 432x288 with 1 Axes>"
            ]
          },
          "metadata": {
            "needs_background": "light"
          },
          "output_type": "display_data"
        },
        {
          "data": {
            "image/png": "[encoded data removed]",
            "text/plain": [
              "<Figure size 432x288 with 1 Axes>"
            ]
          },
          "metadata": {
            "needs_background": "light"
          },
          "output_type": "display_data"
        },
        {
          "data": {
            "image/png": "[encoded data removed]",
            "text/plain": [
              "<Figure size 432x288 with 1 Axes>"
            ]
          },
          "metadata": {
            "needs_background": "light"
          },
          "output_type": "display_data"
        }
      ],
      "source": [
        "get_hist_plot(config.MODEL_HIGH_LR_PATH)"
      ]
    },
    {
      "cell_type": "markdown",
      "metadata": {},
      "source": [
        "---"
      ]
    },
    {
      "cell_type": "markdown",
      "metadata": {
        "id": "qFosnD377CVI"
      },
      "source": [
        "### Medium Learning Rate"
      ]
    },
    {
      "cell_type": "code",
      "execution_count": 59,
      "metadata": {},
      "outputs": [
        {
          "name": "stdout",
          "output_type": "stream",
          "text": [
            "########## Epoch: 0 ##########\n",
            "Epoch Train Loss: 0.47514351955652234\n",
            "\n",
            "########## Epoch: 1 ##########\n",
            "Epoch Train Loss: 0.35591284151275954\n",
            "\n",
            "########## Epoch: 2 ##########\n",
            "Epoch Train Loss: 0.3205736288249493\n",
            "\n",
            "########## Epoch: 3 ##########\n",
            "Epoch Train Loss: 0.29830110043684643\n",
            "\n",
            "########## Epoch: 4 ##########\n",
            "Epoch Train Loss: 0.2800145432124535\n",
            "\n"
          ]
        }
      ],
      "source": [
        "train_losses, val_losses, train_accuracies, val_accuracies = run(\n",
        "                                                                config.MEDIUM_LEARNING_RATE, \n",
        "                                                                config.MODEL_MID_LR_PATH\n",
        "                                                            )"
      ]
    },
    {
      "cell_type": "code",
      "execution_count": 61,
      "metadata": {},
      "outputs": [
        {
          "data": {
            "image/png": "[encoded data removed]",
            "text/plain": [
              "<Figure size 432x288 with 1 Axes>"
            ]
          },
          "metadata": {
            "needs_background": "light"
          },
          "output_type": "display_data"
        },
        {
          "name": "stderr",
          "output_type": "stream",
          "text": [
            "C:\\Users\\hp\\anaconda3\\envs\\myenv\\lib\\site-packages\\ipykernel_launcher.py:28: UserWarning: FixedFormatter should only be used together with FixedLocator\n"
          ]
        },
        {
          "data": {
            "image/png": "[encoded data removed]",
            "text/plain": [
              "<Figure size 432x288 with 1 Axes>"
            ]
          },
          "metadata": {
            "needs_background": "light"
          },
          "output_type": "display_data"
        }
      ],
      "source": [
        "get_loss_plot(\n",
        "    config.MEDIUM_LEARNING_RATE, \n",
        "    train_losses, \n",
        "    val_losses, \n",
        "    train_accuracies, \n",
        "    val_accuracies\n",
        "    )"
      ]
    },
    {
      "cell_type": "code",
      "execution_count": 62,
      "metadata": {},
      "outputs": [
        {
          "data": {
            "image/png": "[encoded data removed]",
            "text/plain": [
              "<Figure size 432x288 with 1 Axes>"
            ]
          },
          "metadata": {
            "needs_background": "light"
          },
          "output_type": "display_data"
        },
        {
          "data": {
            "image/png": "[encoded data removed]",
            "text/plain": [
              "<Figure size 432x288 with 1 Axes>"
            ]
          },
          "metadata": {
            "needs_background": "light"
          },
          "output_type": "display_data"
        },
        {
          "data": {
            "image/png": "[encoded data removed]",
            "text/plain": [
              "<Figure size 432x288 with 1 Axes>"
            ]
          },
          "metadata": {
            "needs_background": "light"
          },
          "output_type": "display_data"
        },
        {
          "data": {
            "image/png": "[encoded data removed]",
            "text/plain": [
              "<Figure size 432x288 with 1 Axes>"
            ]
          },
          "metadata": {
            "needs_background": "light"
          },
          "output_type": "display_data"
        }
      ],
      "source": [
        "get_hist_plot(config.MODEL_MID_LR_PATH)"
      ]
    },
    {
      "cell_type": "markdown",
      "metadata": {},
      "source": [
        "---"
      ]
    },
    {
      "cell_type": "markdown",
      "metadata": {},
      "source": [
        "### Low Learning Rate"
      ]
    },
    {
      "cell_type": "code",
      "execution_count": 63,
      "metadata": {
        "id": "XDRXpRl87f2p"
      },
      "outputs": [
        {
          "name": "stdout",
          "output_type": "stream",
          "text": [
            "########## Epoch: 0 ##########\n",
            "Epoch Train Loss: 1.1728310434977214\n",
            "\n",
            "########## Epoch: 1 ##########\n",
            "Epoch Train Loss: 0.6904735368728637\n",
            "\n",
            "########## Epoch: 2 ##########\n",
            "Epoch Train Loss: 0.5926605062325796\n",
            "\n",
            "########## Epoch: 3 ##########\n",
            "Epoch Train Loss: 0.5426864339033762\n",
            "\n",
            "########## Epoch: 4 ##########\n",
            "Epoch Train Loss: 0.5115819254159928\n",
            "\n"
          ]
        }
      ],
      "source": [
        "train_losses, val_losses, train_accuracies, val_accuracies = run(\n",
        "                                                                config.LOW_LEARNING_RATE, \n",
        "                                                                config.MODEL_LOW_LR_PATH\n",
        "                                                            )"
      ]
    },
    {
      "cell_type": "code",
      "execution_count": 64,
      "metadata": {
        "id": "qZojB4U47iuN"
      },
      "outputs": [
        {
          "data": {
            "image/png": "[encoded data removed]",
            "text/plain": [
              "<Figure size 432x288 with 1 Axes>"
            ]
          },
          "metadata": {
            "needs_background": "light"
          },
          "output_type": "display_data"
        },
        {
          "name": "stderr",
          "output_type": "stream",
          "text": [
            "C:\\Users\\hp\\anaconda3\\envs\\myenv\\lib\\site-packages\\ipykernel_launcher.py:28: UserWarning: FixedFormatter should only be used together with FixedLocator\n"
          ]
        },
        {
          "data": {
            "image/png": "[encoded data removed]",
            "text/plain": [
              "<Figure size 432x288 with 1 Axes>"
            ]
          },
          "metadata": {
            "needs_background": "light"
          },
          "output_type": "display_data"
        }
      ],
      "source": [
        "get_loss_plot(\n",
        "    config.LOW_LEARNING_RATE, \n",
        "    train_losses, \n",
        "    val_losses, \n",
        "    train_accuracies, \n",
        "    val_accuracies\n",
        "    )"
      ]
    },
    {
      "cell_type": "code",
      "execution_count": 65,
      "metadata": {},
      "outputs": [
        {
          "data": {
            "image/png": "[encoded data removed]",
            "text/plain": [
              "<Figure size 432x288 with 1 Axes>"
            ]
          },
          "metadata": {
            "needs_background": "light"
          },
          "output_type": "display_data"
        },
        {
          "data": {
            "image/png": "[encoded data removed]",
            "text/plain": [
              "<Figure size 432x288 with 1 Axes>"
            ]
          },
          "metadata": {
            "needs_background": "light"
          },
          "output_type": "display_data"
        },
        {
          "data": {
            "image/png": "[encoded data removed]",
            "text/plain": [
              "<Figure size 432x288 with 1 Axes>"
            ]
          },
          "metadata": {
            "needs_background": "light"
          },
          "output_type": "display_data"
        },
        {
          "data": {
            "image/png": "[encoded data removed]",
            "text/plain": [
              "<Figure size 432x288 with 1 Axes>"
            ]
          },
          "metadata": {
            "needs_background": "light"
          },
          "output_type": "display_data"
        }
      ],
      "source": [
        "get_hist_plot(config.MODEL_LOW_LR_PATH)"
      ]
    },
    {
      "cell_type": "markdown",
      "metadata": {},
      "source": [
        "---"
      ]
    }
  ],
  "metadata": {
    "accelerator": "GPU",
    "colab": {
      "include_colab_link": true,
      "name": "Varying_learning_rate_on_scaled_data.ipynb",
      "provenance": []
    },
    "hide_input": false,
    "kernelspec": {
      "display_name": "Python 3",
      "language": "python",
      "name": "python3"
    },
    "language_info": {
      "codemirror_mode": {
        "name": "ipython",
        "version": 3
      },
      "file_extension": ".py",
      "mimetype": "text/x-python",
      "name": "python",
      "nbconvert_exporter": "python",
      "pygments_lexer": "ipython3",
      "version": "3.7.10"
    },
    "widgets": {
      "application/vnd.jupyter.widget-state+json": {
        "03db6468a1204187989c5a9ca399ca89": {
          "model_module": "@jupyter-widgets/controls",
          "model_name": "FloatProgressModel",
          "state": {
            "_dom_classes": [],
            "_model_module": "@jupyter-widgets/controls",
            "_model_module_version": "1.5.0",
            "_model_name": "FloatProgressModel",
            "_view_count": null,
            "_view_module": "@jupyter-widgets/controls",
            "_view_module_version": "1.5.0",
            "_view_name": "ProgressView",
            "bar_style": "success",
            "description": "",
            "description_tooltip": null,
            "layout": "IPY_MODEL_20bfc65f6e084666a145f3e0c82e6e51",
            "max": 1,
            "min": 0,
            "orientation": "horizontal",
            "style": "IPY_MODEL_6cdb0d3567704d1eae6971553158a93d",
            "value": 1
          }
        },
        "111dd48b60b54627945bb5d13cca94a3": {
          "model_module": "@jupyter-widgets/base",
          "model_name": "LayoutModel",
          "state": {
            "_model_module": "@jupyter-widgets/base",
            "_model_module_version": "1.2.0",
            "_model_name": "LayoutModel",
            "_view_count": null,
            "_view_module": "@jupyter-widgets/base",
            "_view_module_version": "1.2.0",
            "_view_name": "LayoutView",
            "align_content": null,
            "align_items": null,
            "align_self": null,
            "border": null,
            "bottom": null,
            "display": null,
            "flex": null,
            "flex_flow": null,
            "grid_area": null,
            "grid_auto_columns": null,
            "grid_auto_flow": null,
            "grid_auto_rows": null,
            "grid_column": null,
            "grid_gap": null,
            "grid_row": null,
            "grid_template_areas": null,
            "grid_template_columns": null,
            "grid_template_rows": null,
            "height": null,
            "justify_content": null,
            "justify_items": null,
            "left": null,
            "margin": null,
            "max_height": null,
            "max_width": null,
            "min_height": null,
            "min_width": null,
            "object_fit": null,
            "object_position": null,
            "order": null,
            "overflow": null,
            "overflow_x": null,
            "overflow_y": null,
            "padding": null,
            "right": null,
            "top": null,
            "visibility": null,
            "width": null
          }
        },
        "20bfc65f6e084666a145f3e0c82e6e51": {
          "model_module": "@jupyter-widgets/base",
          "model_name": "LayoutModel",
          "state": {
            "_model_module": "@jupyter-widgets/base",
            "_model_module_version": "1.2.0",
            "_model_name": "LayoutModel",
            "_view_count": null,
            "_view_module": "@jupyter-widgets/base",
            "_view_module_version": "1.2.0",
            "_view_name": "LayoutView",
            "align_content": null,
            "align_items": null,
            "align_self": null,
            "border": null,
            "bottom": null,
            "display": null,
            "flex": null,
            "flex_flow": null,
            "grid_area": null,
            "grid_auto_columns": null,
            "grid_auto_flow": null,
            "grid_auto_rows": null,
            "grid_column": null,
            "grid_gap": null,
            "grid_row": null,
            "grid_template_areas": null,
            "grid_template_columns": null,
            "grid_template_rows": null,
            "height": null,
            "justify_content": null,
            "justify_items": null,
            "left": null,
            "margin": null,
            "max_height": null,
            "max_width": null,
            "min_height": null,
            "min_width": null,
            "object_fit": null,
            "object_position": null,
            "order": null,
            "overflow": null,
            "overflow_x": null,
            "overflow_y": null,
            "padding": null,
            "right": null,
            "top": null,
            "visibility": null,
            "width": null
          }
        },
        "2e94773230b0455ea544ee4e868f35ab": {
          "model_module": "@jupyter-widgets/controls",
          "model_name": "DescriptionStyleModel",
          "state": {
            "_model_module": "@jupyter-widgets/controls",
            "_model_module_version": "1.5.0",
            "_model_name": "DescriptionStyleModel",
            "_view_count": null,
            "_view_module": "@jupyter-widgets/base",
            "_view_module_version": "1.2.0",
            "_view_name": "StyleView",
            "description_width": ""
          }
        },
        "37bea11f5a444c45b2bf6cc01cc15ed5": {
          "model_module": "@jupyter-widgets/base",
          "model_name": "LayoutModel",
          "state": {
            "_model_module": "@jupyter-widgets/base",
            "_model_module_version": "1.2.0",
            "_model_name": "LayoutModel",
            "_view_count": null,
            "_view_module": "@jupyter-widgets/base",
            "_view_module_version": "1.2.0",
            "_view_name": "LayoutView",
            "align_content": null,
            "align_items": null,
            "align_self": null,
            "border": null,
            "bottom": null,
            "display": null,
            "flex": null,
            "flex_flow": null,
            "grid_area": null,
            "grid_auto_columns": null,
            "grid_auto_flow": null,
            "grid_auto_rows": null,
            "grid_column": null,
            "grid_gap": null,
            "grid_row": null,
            "grid_template_areas": null,
            "grid_template_columns": null,
            "grid_template_rows": null,
            "height": null,
            "justify_content": null,
            "justify_items": null,
            "left": null,
            "margin": null,
            "max_height": null,
            "max_width": null,
            "min_height": null,
            "min_width": null,
            "object_fit": null,
            "object_position": null,
            "order": null,
            "overflow": null,
            "overflow_x": null,
            "overflow_y": null,
            "padding": null,
            "right": null,
            "top": null,
            "visibility": null,
            "width": null
          }
        },
        "485adcc616a64367af619c8d8ef186ee": {
          "model_module": "@jupyter-widgets/base",
          "model_name": "LayoutModel",
          "state": {
            "_model_module": "@jupyter-widgets/base",
            "_model_module_version": "1.2.0",
            "_model_name": "LayoutModel",
            "_view_count": null,
            "_view_module": "@jupyter-widgets/base",
            "_view_module_version": "1.2.0",
            "_view_name": "LayoutView",
            "align_content": null,
            "align_items": null,
            "align_self": null,
            "border": null,
            "bottom": null,
            "display": null,
            "flex": null,
            "flex_flow": null,
            "grid_area": null,
            "grid_auto_columns": null,
            "grid_auto_flow": null,
            "grid_auto_rows": null,
            "grid_column": null,
            "grid_gap": null,
            "grid_row": null,
            "grid_template_areas": null,
            "grid_template_columns": null,
            "grid_template_rows": null,
            "height": null,
            "justify_content": null,
            "justify_items": null,
            "left": null,
            "margin": null,
            "max_height": null,
            "max_width": null,
            "min_height": null,
            "min_width": null,
            "object_fit": null,
            "object_position": null,
            "order": null,
            "overflow": null,
            "overflow_x": null,
            "overflow_y": null,
            "padding": null,
            "right": null,
            "top": null,
            "visibility": null,
            "width": null
          }
        },
        "50f95788611244cf8af9bc6a927da130": {
          "model_module": "@jupyter-widgets/base",
          "model_name": "LayoutModel",
          "state": {
            "_model_module": "@jupyter-widgets/base",
            "_model_module_version": "1.2.0",
            "_model_name": "LayoutModel",
            "_view_count": null,
            "_view_module": "@jupyter-widgets/base",
            "_view_module_version": "1.2.0",
            "_view_name": "LayoutView",
            "align_content": null,
            "align_items": null,
            "align_self": null,
            "border": null,
            "bottom": null,
            "display": null,
            "flex": null,
            "flex_flow": null,
            "grid_area": null,
            "grid_auto_columns": null,
            "grid_auto_flow": null,
            "grid_auto_rows": null,
            "grid_column": null,
            "grid_gap": null,
            "grid_row": null,
            "grid_template_areas": null,
            "grid_template_columns": null,
            "grid_template_rows": null,
            "height": null,
            "justify_content": null,
            "justify_items": null,
            "left": null,
            "margin": null,
            "max_height": null,
            "max_width": null,
            "min_height": null,
            "min_width": null,
            "object_fit": null,
            "object_position": null,
            "order": null,
            "overflow": null,
            "overflow_x": null,
            "overflow_y": null,
            "padding": null,
            "right": null,
            "top": null,
            "visibility": null,
            "width": null
          }
        },
        "51c391a3d08a45a98a621f318807c0a4": {
          "model_module": "@jupyter-widgets/controls",
          "model_name": "FloatProgressModel",
          "state": {
            "_dom_classes": [],
            "_model_module": "@jupyter-widgets/controls",
            "_model_module_version": "1.5.0",
            "_model_name": "FloatProgressModel",
            "_view_count": null,
            "_view_module": "@jupyter-widgets/controls",
            "_view_module_version": "1.5.0",
            "_view_name": "ProgressView",
            "bar_style": "success",
            "description": "",
            "description_tooltip": null,
            "layout": "IPY_MODEL_a78c1daf40bf488c8bf4e9ba6cbaebd8",
            "max": 1,
            "min": 0,
            "orientation": "horizontal",
            "style": "IPY_MODEL_b2e0c5eb158e40cd826b37d782532ec0",
            "value": 1
          }
        },
        "6a37b969b4034f5982c103c20fec07f1": {
          "model_module": "@jupyter-widgets/base",
          "model_name": "LayoutModel",
          "state": {
            "_model_module": "@jupyter-widgets/base",
            "_model_module_version": "1.2.0",
            "_model_name": "LayoutModel",
            "_view_count": null,
            "_view_module": "@jupyter-widgets/base",
            "_view_module_version": "1.2.0",
            "_view_name": "LayoutView",
            "align_content": null,
            "align_items": null,
            "align_self": null,
            "border": null,
            "bottom": null,
            "display": null,
            "flex": null,
            "flex_flow": null,
            "grid_area": null,
            "grid_auto_columns": null,
            "grid_auto_flow": null,
            "grid_auto_rows": null,
            "grid_column": null,
            "grid_gap": null,
            "grid_row": null,
            "grid_template_areas": null,
            "grid_template_columns": null,
            "grid_template_rows": null,
            "height": null,
            "justify_content": null,
            "justify_items": null,
            "left": null,
            "margin": null,
            "max_height": null,
            "max_width": null,
            "min_height": null,
            "min_width": null,
            "object_fit": null,
            "object_position": null,
            "order": null,
            "overflow": null,
            "overflow_x": null,
            "overflow_y": null,
            "padding": null,
            "right": null,
            "top": null,
            "visibility": null,
            "width": null
          }
        },
        "6b54b67a969f4dfcb8e42ac452ed2bf2": {
          "model_module": "@jupyter-widgets/base",
          "model_name": "LayoutModel",
          "state": {
            "_model_module": "@jupyter-widgets/base",
            "_model_module_version": "1.2.0",
            "_model_name": "LayoutModel",
            "_view_count": null,
            "_view_module": "@jupyter-widgets/base",
            "_view_module_version": "1.2.0",
            "_view_name": "LayoutView",
            "align_content": null,
            "align_items": null,
            "align_self": null,
            "border": null,
            "bottom": null,
            "display": null,
            "flex": null,
            "flex_flow": null,
            "grid_area": null,
            "grid_auto_columns": null,
            "grid_auto_flow": null,
            "grid_auto_rows": null,
            "grid_column": null,
            "grid_gap": null,
            "grid_row": null,
            "grid_template_areas": null,
            "grid_template_columns": null,
            "grid_template_rows": null,
            "height": null,
            "justify_content": null,
            "justify_items": null,
            "left": null,
            "margin": null,
            "max_height": null,
            "max_width": null,
            "min_height": null,
            "min_width": null,
            "object_fit": null,
            "object_position": null,
            "order": null,
            "overflow": null,
            "overflow_x": null,
            "overflow_y": null,
            "padding": null,
            "right": null,
            "top": null,
            "visibility": null,
            "width": null
          }
        },
        "6b7e31e72bbe4701b15c9b20ccad3f6e": {
          "model_module": "@jupyter-widgets/base",
          "model_name": "LayoutModel",
          "state": {
            "_model_module": "@jupyter-widgets/base",
            "_model_module_version": "1.2.0",
            "_model_name": "LayoutModel",
            "_view_count": null,
            "_view_module": "@jupyter-widgets/base",
            "_view_module_version": "1.2.0",
            "_view_name": "LayoutView",
            "align_content": null,
            "align_items": null,
            "align_self": null,
            "border": null,
            "bottom": null,
            "display": null,
            "flex": null,
            "flex_flow": null,
            "grid_area": null,
            "grid_auto_columns": null,
            "grid_auto_flow": null,
            "grid_auto_rows": null,
            "grid_column": null,
            "grid_gap": null,
            "grid_row": null,
            "grid_template_areas": null,
            "grid_template_columns": null,
            "grid_template_rows": null,
            "height": null,
            "justify_content": null,
            "justify_items": null,
            "left": null,
            "margin": null,
            "max_height": null,
            "max_width": null,
            "min_height": null,
            "min_width": null,
            "object_fit": null,
            "object_position": null,
            "order": null,
            "overflow": null,
            "overflow_x": null,
            "overflow_y": null,
            "padding": null,
            "right": null,
            "top": null,
            "visibility": null,
            "width": null
          }
        },
        "6cdb0d3567704d1eae6971553158a93d": {
          "model_module": "@jupyter-widgets/controls",
          "model_name": "ProgressStyleModel",
          "state": {
            "_model_module": "@jupyter-widgets/controls",
            "_model_module_version": "1.5.0",
            "_model_name": "ProgressStyleModel",
            "_view_count": null,
            "_view_module": "@jupyter-widgets/base",
            "_view_module_version": "1.2.0",
            "_view_name": "StyleView",
            "bar_color": null,
            "description_width": "initial"
          }
        },
        "88389412e16a4584a85916e15454f7f0": {
          "model_module": "@jupyter-widgets/controls",
          "model_name": "ProgressStyleModel",
          "state": {
            "_model_module": "@jupyter-widgets/controls",
            "_model_module_version": "1.5.0",
            "_model_name": "ProgressStyleModel",
            "_view_count": null,
            "_view_module": "@jupyter-widgets/base",
            "_view_module_version": "1.2.0",
            "_view_name": "StyleView",
            "bar_color": null,
            "description_width": "initial"
          }
        },
        "8b121d7f8284450f84487956d58594ba": {
          "model_module": "@jupyter-widgets/base",
          "model_name": "LayoutModel",
          "state": {
            "_model_module": "@jupyter-widgets/base",
            "_model_module_version": "1.2.0",
            "_model_name": "LayoutModel",
            "_view_count": null,
            "_view_module": "@jupyter-widgets/base",
            "_view_module_version": "1.2.0",
            "_view_name": "LayoutView",
            "align_content": null,
            "align_items": null,
            "align_self": null,
            "border": null,
            "bottom": null,
            "display": null,
            "flex": null,
            "flex_flow": null,
            "grid_area": null,
            "grid_auto_columns": null,
            "grid_auto_flow": null,
            "grid_auto_rows": null,
            "grid_column": null,
            "grid_gap": null,
            "grid_row": null,
            "grid_template_areas": null,
            "grid_template_columns": null,
            "grid_template_rows": null,
            "height": null,
            "justify_content": null,
            "justify_items": null,
            "left": null,
            "margin": null,
            "max_height": null,
            "max_width": null,
            "min_height": null,
            "min_width": null,
            "object_fit": null,
            "object_position": null,
            "order": null,
            "overflow": null,
            "overflow_x": null,
            "overflow_y": null,
            "padding": null,
            "right": null,
            "top": null,
            "visibility": null,
            "width": null
          }
        },
        "921bffbe641f48edbec6a240d1febc60": {
          "model_module": "@jupyter-widgets/controls",
          "model_name": "HBoxModel",
          "state": {
            "_dom_classes": [],
            "_model_module": "@jupyter-widgets/controls",
            "_model_module_version": "1.5.0",
            "_model_name": "HBoxModel",
            "_view_count": null,
            "_view_module": "@jupyter-widgets/controls",
            "_view_module_version": "1.5.0",
            "_view_name": "HBoxView",
            "box_style": "",
            "children": [
              "IPY_MODEL_03db6468a1204187989c5a9ca399ca89",
              "IPY_MODEL_b28fbff9823c4ba2b1ab6f0d1ce010a9"
            ],
            "layout": "IPY_MODEL_37bea11f5a444c45b2bf6cc01cc15ed5"
          }
        },
        "9c17f851329549adb7c6c0ff1b4b72bb": {
          "model_module": "@jupyter-widgets/controls",
          "model_name": "HBoxModel",
          "state": {
            "_dom_classes": [],
            "_model_module": "@jupyter-widgets/controls",
            "_model_module_version": "1.5.0",
            "_model_name": "HBoxModel",
            "_view_count": null,
            "_view_module": "@jupyter-widgets/controls",
            "_view_module_version": "1.5.0",
            "_view_name": "HBoxView",
            "box_style": "",
            "children": [
              "IPY_MODEL_51c391a3d08a45a98a621f318807c0a4",
              "IPY_MODEL_a54941c3f2984eb188e7d709207718a3"
            ],
            "layout": "IPY_MODEL_6b54b67a969f4dfcb8e42ac452ed2bf2"
          }
        },
        "a3f6e11dfddd42e9b6067ae0ac370ed6": {
          "model_module": "@jupyter-widgets/controls",
          "model_name": "HTMLModel",
          "state": {
            "_dom_classes": [],
            "_model_module": "@jupyter-widgets/controls",
            "_model_module_version": "1.5.0",
            "_model_name": "HTMLModel",
            "_view_count": null,
            "_view_module": "@jupyter-widgets/controls",
            "_view_module_version": "1.5.0",
            "_view_name": "HTMLView",
            "description": "",
            "description_tooltip": null,
            "layout": "IPY_MODEL_50f95788611244cf8af9bc6a927da130",
            "placeholder": "​",
            "style": "IPY_MODEL_2e94773230b0455ea544ee4e868f35ab",
            "value": " 26427392/? [00:20&lt;00:00, 70376905.63it/s]"
          }
        },
        "a54941c3f2984eb188e7d709207718a3": {
          "model_module": "@jupyter-widgets/controls",
          "model_name": "HTMLModel",
          "state": {
            "_dom_classes": [],
            "_model_module": "@jupyter-widgets/controls",
            "_model_module_version": "1.5.0",
            "_model_name": "HTMLModel",
            "_view_count": null,
            "_view_module": "@jupyter-widgets/controls",
            "_view_module_version": "1.5.0",
            "_view_name": "HTMLView",
            "description": "",
            "description_tooltip": null,
            "layout": "IPY_MODEL_6a37b969b4034f5982c103c20fec07f1",
            "placeholder": "​",
            "style": "IPY_MODEL_dab92fc6f1864ded828be1b86e9d394e",
            "value": " 32768/? [00:00&lt;00:00, 84606.30it/s]"
          }
        },
        "a7797f3647754db698bb3cfc0e012a45": {
          "model_module": "@jupyter-widgets/controls",
          "model_name": "FloatProgressModel",
          "state": {
            "_dom_classes": [],
            "_model_module": "@jupyter-widgets/controls",
            "_model_module_version": "1.5.0",
            "_model_name": "FloatProgressModel",
            "_view_count": null,
            "_view_module": "@jupyter-widgets/controls",
            "_view_module_version": "1.5.0",
            "_view_name": "ProgressView",
            "bar_style": "success",
            "description": "",
            "description_tooltip": null,
            "layout": "IPY_MODEL_8b121d7f8284450f84487956d58594ba",
            "max": 1,
            "min": 0,
            "orientation": "horizontal",
            "style": "IPY_MODEL_a7dcae9789ae4846bb7d25c15eb3c871",
            "value": 1
          }
        },
        "a78c1daf40bf488c8bf4e9ba6cbaebd8": {
          "model_module": "@jupyter-widgets/base",
          "model_name": "LayoutModel",
          "state": {
            "_model_module": "@jupyter-widgets/base",
            "_model_module_version": "1.2.0",
            "_model_name": "LayoutModel",
            "_view_count": null,
            "_view_module": "@jupyter-widgets/base",
            "_view_module_version": "1.2.0",
            "_view_name": "LayoutView",
            "align_content": null,
            "align_items": null,
            "align_self": null,
            "border": null,
            "bottom": null,
            "display": null,
            "flex": null,
            "flex_flow": null,
            "grid_area": null,
            "grid_auto_columns": null,
            "grid_auto_flow": null,
            "grid_auto_rows": null,
            "grid_column": null,
            "grid_gap": null,
            "grid_row": null,
            "grid_template_areas": null,
            "grid_template_columns": null,
            "grid_template_rows": null,
            "height": null,
            "justify_content": null,
            "justify_items": null,
            "left": null,
            "margin": null,
            "max_height": null,
            "max_width": null,
            "min_height": null,
            "min_width": null,
            "object_fit": null,
            "object_position": null,
            "order": null,
            "overflow": null,
            "overflow_x": null,
            "overflow_y": null,
            "padding": null,
            "right": null,
            "top": null,
            "visibility": null,
            "width": null
          }
        },
        "a7dcae9789ae4846bb7d25c15eb3c871": {
          "model_module": "@jupyter-widgets/controls",
          "model_name": "ProgressStyleModel",
          "state": {
            "_model_module": "@jupyter-widgets/controls",
            "_model_module_version": "1.5.0",
            "_model_name": "ProgressStyleModel",
            "_view_count": null,
            "_view_module": "@jupyter-widgets/base",
            "_view_module_version": "1.2.0",
            "_view_name": "StyleView",
            "bar_color": null,
            "description_width": "initial"
          }
        },
        "b28fbff9823c4ba2b1ab6f0d1ce010a9": {
          "model_module": "@jupyter-widgets/controls",
          "model_name": "HTMLModel",
          "state": {
            "_dom_classes": [],
            "_model_module": "@jupyter-widgets/controls",
            "_model_module_version": "1.5.0",
            "_model_name": "HTMLModel",
            "_view_count": null,
            "_view_module": "@jupyter-widgets/controls",
            "_view_module_version": "1.5.0",
            "_view_name": "HTMLView",
            "description": "",
            "description_tooltip": null,
            "layout": "IPY_MODEL_6b7e31e72bbe4701b15c9b20ccad3f6e",
            "placeholder": "​",
            "style": "IPY_MODEL_fea2440f9b04432ba305fddd87654150",
            "value": " 8192/? [00:00&lt;00:00, 26759.59it/s]"
          }
        },
        "b2e0c5eb158e40cd826b37d782532ec0": {
          "model_module": "@jupyter-widgets/controls",
          "model_name": "ProgressStyleModel",
          "state": {
            "_model_module": "@jupyter-widgets/controls",
            "_model_module_version": "1.5.0",
            "_model_name": "ProgressStyleModel",
            "_view_count": null,
            "_view_module": "@jupyter-widgets/base",
            "_view_module_version": "1.2.0",
            "_view_name": "StyleView",
            "bar_color": null,
            "description_width": "initial"
          }
        },
        "c50d39ed89274af889b7d5a750eafccc": {
          "model_module": "@jupyter-widgets/controls",
          "model_name": "HTMLModel",
          "state": {
            "_dom_classes": [],
            "_model_module": "@jupyter-widgets/controls",
            "_model_module_version": "1.5.0",
            "_model_name": "HTMLModel",
            "_view_count": null,
            "_view_module": "@jupyter-widgets/controls",
            "_view_module_version": "1.5.0",
            "_view_name": "HTMLView",
            "description": "",
            "description_tooltip": null,
            "layout": "IPY_MODEL_da2505878dfe4fbf94f69bfb628b4328",
            "placeholder": "​",
            "style": "IPY_MODEL_e9719aa12ee942519174b95260e006c9",
            "value": " 4423680/? [00:00&lt;00:00, 16810916.27it/s]"
          }
        },
        "d0d2f9b00ba04fbc826786f670173113": {
          "model_module": "@jupyter-widgets/base",
          "model_name": "LayoutModel",
          "state": {
            "_model_module": "@jupyter-widgets/base",
            "_model_module_version": "1.2.0",
            "_model_name": "LayoutModel",
            "_view_count": null,
            "_view_module": "@jupyter-widgets/base",
            "_view_module_version": "1.2.0",
            "_view_name": "LayoutView",
            "align_content": null,
            "align_items": null,
            "align_self": null,
            "border": null,
            "bottom": null,
            "display": null,
            "flex": null,
            "flex_flow": null,
            "grid_area": null,
            "grid_auto_columns": null,
            "grid_auto_flow": null,
            "grid_auto_rows": null,
            "grid_column": null,
            "grid_gap": null,
            "grid_row": null,
            "grid_template_areas": null,
            "grid_template_columns": null,
            "grid_template_rows": null,
            "height": null,
            "justify_content": null,
            "justify_items": null,
            "left": null,
            "margin": null,
            "max_height": null,
            "max_width": null,
            "min_height": null,
            "min_width": null,
            "object_fit": null,
            "object_position": null,
            "order": null,
            "overflow": null,
            "overflow_x": null,
            "overflow_y": null,
            "padding": null,
            "right": null,
            "top": null,
            "visibility": null,
            "width": null
          }
        },
        "da2505878dfe4fbf94f69bfb628b4328": {
          "model_module": "@jupyter-widgets/base",
          "model_name": "LayoutModel",
          "state": {
            "_model_module": "@jupyter-widgets/base",
            "_model_module_version": "1.2.0",
            "_model_name": "LayoutModel",
            "_view_count": null,
            "_view_module": "@jupyter-widgets/base",
            "_view_module_version": "1.2.0",
            "_view_name": "LayoutView",
            "align_content": null,
            "align_items": null,
            "align_self": null,
            "border": null,
            "bottom": null,
            "display": null,
            "flex": null,
            "flex_flow": null,
            "grid_area": null,
            "grid_auto_columns": null,
            "grid_auto_flow": null,
            "grid_auto_rows": null,
            "grid_column": null,
            "grid_gap": null,
            "grid_row": null,
            "grid_template_areas": null,
            "grid_template_columns": null,
            "grid_template_rows": null,
            "height": null,
            "justify_content": null,
            "justify_items": null,
            "left": null,
            "margin": null,
            "max_height": null,
            "max_width": null,
            "min_height": null,
            "min_width": null,
            "object_fit": null,
            "object_position": null,
            "order": null,
            "overflow": null,
            "overflow_x": null,
            "overflow_y": null,
            "padding": null,
            "right": null,
            "top": null,
            "visibility": null,
            "width": null
          }
        },
        "dab92fc6f1864ded828be1b86e9d394e": {
          "model_module": "@jupyter-widgets/controls",
          "model_name": "DescriptionStyleModel",
          "state": {
            "_model_module": "@jupyter-widgets/controls",
            "_model_module_version": "1.5.0",
            "_model_name": "DescriptionStyleModel",
            "_view_count": null,
            "_view_module": "@jupyter-widgets/base",
            "_view_module_version": "1.2.0",
            "_view_name": "StyleView",
            "description_width": ""
          }
        },
        "dae59549ef954024b3c36d449e4641d9": {
          "model_module": "@jupyter-widgets/controls",
          "model_name": "HBoxModel",
          "state": {
            "_dom_classes": [],
            "_model_module": "@jupyter-widgets/controls",
            "_model_module_version": "1.5.0",
            "_model_name": "HBoxModel",
            "_view_count": null,
            "_view_module": "@jupyter-widgets/controls",
            "_view_module_version": "1.5.0",
            "_view_name": "HBoxView",
            "box_style": "",
            "children": [
              "IPY_MODEL_e08286687cbd40dfa558da2b8d71c6fc",
              "IPY_MODEL_a3f6e11dfddd42e9b6067ae0ac370ed6"
            ],
            "layout": "IPY_MODEL_d0d2f9b00ba04fbc826786f670173113"
          }
        },
        "e08286687cbd40dfa558da2b8d71c6fc": {
          "model_module": "@jupyter-widgets/controls",
          "model_name": "FloatProgressModel",
          "state": {
            "_dom_classes": [],
            "_model_module": "@jupyter-widgets/controls",
            "_model_module_version": "1.5.0",
            "_model_name": "FloatProgressModel",
            "_view_count": null,
            "_view_module": "@jupyter-widgets/controls",
            "_view_module_version": "1.5.0",
            "_view_name": "ProgressView",
            "bar_style": "info",
            "description": "",
            "description_tooltip": null,
            "layout": "IPY_MODEL_111dd48b60b54627945bb5d13cca94a3",
            "max": 1,
            "min": 0,
            "orientation": "horizontal",
            "style": "IPY_MODEL_88389412e16a4584a85916e15454f7f0",
            "value": 1
          }
        },
        "e9719aa12ee942519174b95260e006c9": {
          "model_module": "@jupyter-widgets/controls",
          "model_name": "DescriptionStyleModel",
          "state": {
            "_model_module": "@jupyter-widgets/controls",
            "_model_module_version": "1.5.0",
            "_model_name": "DescriptionStyleModel",
            "_view_count": null,
            "_view_module": "@jupyter-widgets/base",
            "_view_module_version": "1.2.0",
            "_view_name": "StyleView",
            "description_width": ""
          }
        },
        "eb35d1f806bb4293832b352372a7e818": {
          "model_module": "@jupyter-widgets/controls",
          "model_name": "HBoxModel",
          "state": {
            "_dom_classes": [],
            "_model_module": "@jupyter-widgets/controls",
            "_model_module_version": "1.5.0",
            "_model_name": "HBoxModel",
            "_view_count": null,
            "_view_module": "@jupyter-widgets/controls",
            "_view_module_version": "1.5.0",
            "_view_name": "HBoxView",
            "box_style": "",
            "children": [
              "IPY_MODEL_a7797f3647754db698bb3cfc0e012a45",
              "IPY_MODEL_c50d39ed89274af889b7d5a750eafccc"
            ],
            "layout": "IPY_MODEL_485adcc616a64367af619c8d8ef186ee"
          }
        },
        "fea2440f9b04432ba305fddd87654150": {
          "model_module": "@jupyter-widgets/controls",
          "model_name": "DescriptionStyleModel",
          "state": {
            "_model_module": "@jupyter-widgets/controls",
            "_model_module_version": "1.5.0",
            "_model_name": "DescriptionStyleModel",
            "_view_count": null,
            "_view_module": "@jupyter-widgets/base",
            "_view_module_version": "1.2.0",
            "_view_name": "StyleView",
            "description_width": ""
          }
        }
      }
    }
  },
  "nbformat": 4,
  "nbformat_minor": 0
}
